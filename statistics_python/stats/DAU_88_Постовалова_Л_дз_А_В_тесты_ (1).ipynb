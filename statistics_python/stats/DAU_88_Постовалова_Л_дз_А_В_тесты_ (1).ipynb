{
  "nbformat": 4,
  "nbformat_minor": 0,
  "metadata": {
    "colab": {
      "provenance": []
    },
    "kernelspec": {
      "name": "python3",
      "display_name": "Python 3"
    },
    "language_info": {
      "name": "python"
    }
  },
  "cells": [
    {
      "cell_type": "markdown",
      "source": [
        "**Описание датасета**\n",
        "\n",
        "* pid: Numeric - ID покемона\n",
        "* HP: Numeric - Очки здоровья\n",
        "* Attack: Numeric - Сила обычной атаки\n",
        "* Defense: Numeric - Сила обычной защиты\n",
        "* Sp. Atk: Numeric - Сила специальной атаки\n",
        "* Sp. Def: Numeric - Сила специальной защиты\n",
        "* Speed: Numeric - Скорость движений\n",
        "* Legendary: Boolean - «True», если покемон редкий\n",
        "* Class 1: Categorical - Класс покемона\n",
        "* Class 2: Categorical - Класс покемона"
      ],
      "metadata": {
        "id": "mS9sucWmnlzD"
      }
    },
    {
      "cell_type": "code",
      "source": [
        "import warnings\n",
        "# Отключение предупреждений (warnings)\n",
        "warnings.filterwarnings(\"ignore\")\n",
        "\n",
        "import pandas as pd\n",
        "\n",
        "from scipy.stats import ttest_ind\n",
        "from scipy.stats import f_oneway, shapiro\n",
        "\n",
        "pokemon = pd.read_csv('https://raw.githubusercontent.com/a-milenkin/datasets_for_t-tests/main/pokemon.csv', on_bad_lines='skip')  # Откроем датасет\n",
        "pokemon.head()\n",
        "\n",
        "# Обратите внимание, что у покемона может быть один или два класса.\n",
        "# Если у покемона два класса, считается, что они имеют одинаковую значимость."
      ],
      "metadata": {
        "colab": {
          "base_uri": "https://localhost:8080/",
          "height": 206
        },
        "id": "DxPUXOG2oAgY",
        "outputId": "9e0553a2-9c44-49a1-acf0-f7c09913dd0c"
      },
      "execution_count": 27,
      "outputs": [
        {
          "output_type": "execute_result",
          "data": {
            "text/plain": [
              "   pid           Name Class 1 Class 2  HP  Attack  Defense  Sp. Atk  Sp. Def  \\\n",
              "0    1      Bulbasaur   Grass  Poison  45      49       49       65       65   \n",
              "1    2        Ivysaur   Grass  Poison  60      62       63       80       80   \n",
              "2    3       Venusaur   Grass  Poison  80      82       83      100      100   \n",
              "3    4  Mega Venusaur   Grass  Poison  80     100      123      122      120   \n",
              "4    5     Charmander    Fire     NaN  39      52       43       60       50   \n",
              "\n",
              "   Speed  Legendary  \n",
              "0     45      False  \n",
              "1     60      False  \n",
              "2     80      False  \n",
              "3     80      False  \n",
              "4     65      False  "
            ],
            "text/html": [
              "\n",
              "  <div id=\"df-93fa7ca6-c04e-42bd-a253-e078e2055c7c\" class=\"colab-df-container\">\n",
              "    <div>\n",
              "<style scoped>\n",
              "    .dataframe tbody tr th:only-of-type {\n",
              "        vertical-align: middle;\n",
              "    }\n",
              "\n",
              "    .dataframe tbody tr th {\n",
              "        vertical-align: top;\n",
              "    }\n",
              "\n",
              "    .dataframe thead th {\n",
              "        text-align: right;\n",
              "    }\n",
              "</style>\n",
              "<table border=\"1\" class=\"dataframe\">\n",
              "  <thead>\n",
              "    <tr style=\"text-align: right;\">\n",
              "      <th></th>\n",
              "      <th>pid</th>\n",
              "      <th>Name</th>\n",
              "      <th>Class 1</th>\n",
              "      <th>Class 2</th>\n",
              "      <th>HP</th>\n",
              "      <th>Attack</th>\n",
              "      <th>Defense</th>\n",
              "      <th>Sp. Atk</th>\n",
              "      <th>Sp. Def</th>\n",
              "      <th>Speed</th>\n",
              "      <th>Legendary</th>\n",
              "    </tr>\n",
              "  </thead>\n",
              "  <tbody>\n",
              "    <tr>\n",
              "      <th>0</th>\n",
              "      <td>1</td>\n",
              "      <td>Bulbasaur</td>\n",
              "      <td>Grass</td>\n",
              "      <td>Poison</td>\n",
              "      <td>45</td>\n",
              "      <td>49</td>\n",
              "      <td>49</td>\n",
              "      <td>65</td>\n",
              "      <td>65</td>\n",
              "      <td>45</td>\n",
              "      <td>False</td>\n",
              "    </tr>\n",
              "    <tr>\n",
              "      <th>1</th>\n",
              "      <td>2</td>\n",
              "      <td>Ivysaur</td>\n",
              "      <td>Grass</td>\n",
              "      <td>Poison</td>\n",
              "      <td>60</td>\n",
              "      <td>62</td>\n",
              "      <td>63</td>\n",
              "      <td>80</td>\n",
              "      <td>80</td>\n",
              "      <td>60</td>\n",
              "      <td>False</td>\n",
              "    </tr>\n",
              "    <tr>\n",
              "      <th>2</th>\n",
              "      <td>3</td>\n",
              "      <td>Venusaur</td>\n",
              "      <td>Grass</td>\n",
              "      <td>Poison</td>\n",
              "      <td>80</td>\n",
              "      <td>82</td>\n",
              "      <td>83</td>\n",
              "      <td>100</td>\n",
              "      <td>100</td>\n",
              "      <td>80</td>\n",
              "      <td>False</td>\n",
              "    </tr>\n",
              "    <tr>\n",
              "      <th>3</th>\n",
              "      <td>4</td>\n",
              "      <td>Mega Venusaur</td>\n",
              "      <td>Grass</td>\n",
              "      <td>Poison</td>\n",
              "      <td>80</td>\n",
              "      <td>100</td>\n",
              "      <td>123</td>\n",
              "      <td>122</td>\n",
              "      <td>120</td>\n",
              "      <td>80</td>\n",
              "      <td>False</td>\n",
              "    </tr>\n",
              "    <tr>\n",
              "      <th>4</th>\n",
              "      <td>5</td>\n",
              "      <td>Charmander</td>\n",
              "      <td>Fire</td>\n",
              "      <td>NaN</td>\n",
              "      <td>39</td>\n",
              "      <td>52</td>\n",
              "      <td>43</td>\n",
              "      <td>60</td>\n",
              "      <td>50</td>\n",
              "      <td>65</td>\n",
              "      <td>False</td>\n",
              "    </tr>\n",
              "  </tbody>\n",
              "</table>\n",
              "</div>\n",
              "    <div class=\"colab-df-buttons\">\n",
              "\n",
              "  <div class=\"colab-df-container\">\n",
              "    <button class=\"colab-df-convert\" onclick=\"convertToInteractive('df-93fa7ca6-c04e-42bd-a253-e078e2055c7c')\"\n",
              "            title=\"Convert this dataframe to an interactive table.\"\n",
              "            style=\"display:none;\">\n",
              "\n",
              "  <svg xmlns=\"http://www.w3.org/2000/svg\" height=\"24px\" viewBox=\"0 -960 960 960\">\n",
              "    <path d=\"M120-120v-720h720v720H120Zm60-500h600v-160H180v160Zm220 220h160v-160H400v160Zm0 220h160v-160H400v160ZM180-400h160v-160H180v160Zm440 0h160v-160H620v160ZM180-180h160v-160H180v160Zm440 0h160v-160H620v160Z\"/>\n",
              "  </svg>\n",
              "    </button>\n",
              "\n",
              "  <style>\n",
              "    .colab-df-container {\n",
              "      display:flex;\n",
              "      gap: 12px;\n",
              "    }\n",
              "\n",
              "    .colab-df-convert {\n",
              "      background-color: #E8F0FE;\n",
              "      border: none;\n",
              "      border-radius: 50%;\n",
              "      cursor: pointer;\n",
              "      display: none;\n",
              "      fill: #1967D2;\n",
              "      height: 32px;\n",
              "      padding: 0 0 0 0;\n",
              "      width: 32px;\n",
              "    }\n",
              "\n",
              "    .colab-df-convert:hover {\n",
              "      background-color: #E2EBFA;\n",
              "      box-shadow: 0px 1px 2px rgba(60, 64, 67, 0.3), 0px 1px 3px 1px rgba(60, 64, 67, 0.15);\n",
              "      fill: #174EA6;\n",
              "    }\n",
              "\n",
              "    .colab-df-buttons div {\n",
              "      margin-bottom: 4px;\n",
              "    }\n",
              "\n",
              "    [theme=dark] .colab-df-convert {\n",
              "      background-color: #3B4455;\n",
              "      fill: #D2E3FC;\n",
              "    }\n",
              "\n",
              "    [theme=dark] .colab-df-convert:hover {\n",
              "      background-color: #434B5C;\n",
              "      box-shadow: 0px 1px 3px 1px rgba(0, 0, 0, 0.15);\n",
              "      filter: drop-shadow(0px 1px 2px rgba(0, 0, 0, 0.3));\n",
              "      fill: #FFFFFF;\n",
              "    }\n",
              "  </style>\n",
              "\n",
              "    <script>\n",
              "      const buttonEl =\n",
              "        document.querySelector('#df-93fa7ca6-c04e-42bd-a253-e078e2055c7c button.colab-df-convert');\n",
              "      buttonEl.style.display =\n",
              "        google.colab.kernel.accessAllowed ? 'block' : 'none';\n",
              "\n",
              "      async function convertToInteractive(key) {\n",
              "        const element = document.querySelector('#df-93fa7ca6-c04e-42bd-a253-e078e2055c7c');\n",
              "        const dataTable =\n",
              "          await google.colab.kernel.invokeFunction('convertToInteractive',\n",
              "                                                    [key], {});\n",
              "        if (!dataTable) return;\n",
              "\n",
              "        const docLinkHtml = 'Like what you see? Visit the ' +\n",
              "          '<a target=\"_blank\" href=https://colab.research.google.com/notebooks/data_table.ipynb>data table notebook</a>'\n",
              "          + ' to learn more about interactive tables.';\n",
              "        element.innerHTML = '';\n",
              "        dataTable['output_type'] = 'display_data';\n",
              "        await google.colab.output.renderOutput(dataTable, element);\n",
              "        const docLink = document.createElement('div');\n",
              "        docLink.innerHTML = docLinkHtml;\n",
              "        element.appendChild(docLink);\n",
              "      }\n",
              "    </script>\n",
              "  </div>\n",
              "\n",
              "\n",
              "<div id=\"df-2d5614d4-7935-41d0-99c1-3c6a10bb994a\">\n",
              "  <button class=\"colab-df-quickchart\" onclick=\"quickchart('df-2d5614d4-7935-41d0-99c1-3c6a10bb994a')\"\n",
              "            title=\"Suggest charts\"\n",
              "            style=\"display:none;\">\n",
              "\n",
              "<svg xmlns=\"http://www.w3.org/2000/svg\" height=\"24px\"viewBox=\"0 0 24 24\"\n",
              "     width=\"24px\">\n",
              "    <g>\n",
              "        <path d=\"M19 3H5c-1.1 0-2 .9-2 2v14c0 1.1.9 2 2 2h14c1.1 0 2-.9 2-2V5c0-1.1-.9-2-2-2zM9 17H7v-7h2v7zm4 0h-2V7h2v10zm4 0h-2v-4h2v4z\"/>\n",
              "    </g>\n",
              "</svg>\n",
              "  </button>\n",
              "\n",
              "<style>\n",
              "  .colab-df-quickchart {\n",
              "      --bg-color: #E8F0FE;\n",
              "      --fill-color: #1967D2;\n",
              "      --hover-bg-color: #E2EBFA;\n",
              "      --hover-fill-color: #174EA6;\n",
              "      --disabled-fill-color: #AAA;\n",
              "      --disabled-bg-color: #DDD;\n",
              "  }\n",
              "\n",
              "  [theme=dark] .colab-df-quickchart {\n",
              "      --bg-color: #3B4455;\n",
              "      --fill-color: #D2E3FC;\n",
              "      --hover-bg-color: #434B5C;\n",
              "      --hover-fill-color: #FFFFFF;\n",
              "      --disabled-bg-color: #3B4455;\n",
              "      --disabled-fill-color: #666;\n",
              "  }\n",
              "\n",
              "  .colab-df-quickchart {\n",
              "    background-color: var(--bg-color);\n",
              "    border: none;\n",
              "    border-radius: 50%;\n",
              "    cursor: pointer;\n",
              "    display: none;\n",
              "    fill: var(--fill-color);\n",
              "    height: 32px;\n",
              "    padding: 0;\n",
              "    width: 32px;\n",
              "  }\n",
              "\n",
              "  .colab-df-quickchart:hover {\n",
              "    background-color: var(--hover-bg-color);\n",
              "    box-shadow: 0 1px 2px rgba(60, 64, 67, 0.3), 0 1px 3px 1px rgba(60, 64, 67, 0.15);\n",
              "    fill: var(--button-hover-fill-color);\n",
              "  }\n",
              "\n",
              "  .colab-df-quickchart-complete:disabled,\n",
              "  .colab-df-quickchart-complete:disabled:hover {\n",
              "    background-color: var(--disabled-bg-color);\n",
              "    fill: var(--disabled-fill-color);\n",
              "    box-shadow: none;\n",
              "  }\n",
              "\n",
              "  .colab-df-spinner {\n",
              "    border: 2px solid var(--fill-color);\n",
              "    border-color: transparent;\n",
              "    border-bottom-color: var(--fill-color);\n",
              "    animation:\n",
              "      spin 1s steps(1) infinite;\n",
              "  }\n",
              "\n",
              "  @keyframes spin {\n",
              "    0% {\n",
              "      border-color: transparent;\n",
              "      border-bottom-color: var(--fill-color);\n",
              "      border-left-color: var(--fill-color);\n",
              "    }\n",
              "    20% {\n",
              "      border-color: transparent;\n",
              "      border-left-color: var(--fill-color);\n",
              "      border-top-color: var(--fill-color);\n",
              "    }\n",
              "    30% {\n",
              "      border-color: transparent;\n",
              "      border-left-color: var(--fill-color);\n",
              "      border-top-color: var(--fill-color);\n",
              "      border-right-color: var(--fill-color);\n",
              "    }\n",
              "    40% {\n",
              "      border-color: transparent;\n",
              "      border-right-color: var(--fill-color);\n",
              "      border-top-color: var(--fill-color);\n",
              "    }\n",
              "    60% {\n",
              "      border-color: transparent;\n",
              "      border-right-color: var(--fill-color);\n",
              "    }\n",
              "    80% {\n",
              "      border-color: transparent;\n",
              "      border-right-color: var(--fill-color);\n",
              "      border-bottom-color: var(--fill-color);\n",
              "    }\n",
              "    90% {\n",
              "      border-color: transparent;\n",
              "      border-bottom-color: var(--fill-color);\n",
              "    }\n",
              "  }\n",
              "</style>\n",
              "\n",
              "  <script>\n",
              "    async function quickchart(key) {\n",
              "      const quickchartButtonEl =\n",
              "        document.querySelector('#' + key + ' button');\n",
              "      quickchartButtonEl.disabled = true;  // To prevent multiple clicks.\n",
              "      quickchartButtonEl.classList.add('colab-df-spinner');\n",
              "      try {\n",
              "        const charts = await google.colab.kernel.invokeFunction(\n",
              "            'suggestCharts', [key], {});\n",
              "      } catch (error) {\n",
              "        console.error('Error during call to suggestCharts:', error);\n",
              "      }\n",
              "      quickchartButtonEl.classList.remove('colab-df-spinner');\n",
              "      quickchartButtonEl.classList.add('colab-df-quickchart-complete');\n",
              "    }\n",
              "    (() => {\n",
              "      let quickchartButtonEl =\n",
              "        document.querySelector('#df-2d5614d4-7935-41d0-99c1-3c6a10bb994a button');\n",
              "      quickchartButtonEl.style.display =\n",
              "        google.colab.kernel.accessAllowed ? 'block' : 'none';\n",
              "    })();\n",
              "  </script>\n",
              "</div>\n",
              "\n",
              "    </div>\n",
              "  </div>\n"
            ],
            "application/vnd.google.colaboratory.intrinsic+json": {
              "type": "dataframe",
              "summary": "{\n  \"name\": \"# \\u0415\\u0441\\u043b\\u0438 \\u0443 \\u043f\\u043e\\u043a\\u0435\\u043c\\u043e\\u043d\\u0430 \\u0434\\u0432\\u0430 \\u043a\\u043b\\u0430\\u0441\\u0441\\u0430, \\u0441\\u0447\\u0438\\u0442\\u0430\\u0435\\u0442\\u0441\\u044f, \\u0447\\u0442\\u043e \\u043e\\u043d\\u0438 \\u0438\\u043c\\u0435\\u044e\\u0442 \\u043e\\u0434\\u0438\\u043d\\u0430\\u043a\\u043e\\u0432\\u0443\\u044e \\u0437\\u043d\\u0430\\u0447\\u0438\\u043c\\u043e\\u0441\\u0442\\u044c\",\n  \"rows\": 5,\n  \"fields\": [\n    {\n      \"column\": \"pid\",\n      \"properties\": {\n        \"dtype\": \"number\",\n        \"std\": 1,\n        \"min\": 1,\n        \"max\": 5,\n        \"num_unique_values\": 5,\n        \"samples\": [\n          2,\n          5,\n          3\n        ],\n        \"semantic_type\": \"\",\n        \"description\": \"\"\n      }\n    },\n    {\n      \"column\": \"Name\",\n      \"properties\": {\n        \"dtype\": \"string\",\n        \"num_unique_values\": 5,\n        \"samples\": [\n          \"Ivysaur\",\n          \"Charmander\",\n          \"Venusaur\"\n        ],\n        \"semantic_type\": \"\",\n        \"description\": \"\"\n      }\n    },\n    {\n      \"column\": \"Class 1\",\n      \"properties\": {\n        \"dtype\": \"category\",\n        \"num_unique_values\": 2,\n        \"samples\": [\n          \"Fire\",\n          \"Grass\"\n        ],\n        \"semantic_type\": \"\",\n        \"description\": \"\"\n      }\n    },\n    {\n      \"column\": \"Class 2\",\n      \"properties\": {\n        \"dtype\": \"category\",\n        \"num_unique_values\": 1,\n        \"samples\": [\n          \"Poison\"\n        ],\n        \"semantic_type\": \"\",\n        \"description\": \"\"\n      }\n    },\n    {\n      \"column\": \"HP\",\n      \"properties\": {\n        \"dtype\": \"number\",\n        \"std\": 19,\n        \"min\": 39,\n        \"max\": 80,\n        \"num_unique_values\": 4,\n        \"samples\": [\n          60\n        ],\n        \"semantic_type\": \"\",\n        \"description\": \"\"\n      }\n    },\n    {\n      \"column\": \"Attack\",\n      \"properties\": {\n        \"dtype\": \"number\",\n        \"std\": 21,\n        \"min\": 49,\n        \"max\": 100,\n        \"num_unique_values\": 5,\n        \"samples\": [\n          62\n        ],\n        \"semantic_type\": \"\",\n        \"description\": \"\"\n      }\n    },\n    {\n      \"column\": \"Defense\",\n      \"properties\": {\n        \"dtype\": \"number\",\n        \"std\": 32,\n        \"min\": 43,\n        \"max\": 123,\n        \"num_unique_values\": 5,\n        \"samples\": [\n          63\n        ],\n        \"semantic_type\": \"\",\n        \"description\": \"\"\n      }\n    },\n    {\n      \"column\": \"Sp. Atk\",\n      \"properties\": {\n        \"dtype\": \"number\",\n        \"std\": 25,\n        \"min\": 60,\n        \"max\": 122,\n        \"num_unique_values\": 5,\n        \"samples\": [\n          80\n        ],\n        \"semantic_type\": \"\",\n        \"description\": \"\"\n      }\n    },\n    {\n      \"column\": \"Sp. Def\",\n      \"properties\": {\n        \"dtype\": \"number\",\n        \"std\": 27,\n        \"min\": 50,\n        \"max\": 120,\n        \"num_unique_values\": 5,\n        \"samples\": [\n          80\n        ],\n        \"semantic_type\": \"\",\n        \"description\": \"\"\n      }\n    },\n    {\n      \"column\": \"Speed\",\n      \"properties\": {\n        \"dtype\": \"number\",\n        \"std\": 14,\n        \"min\": 45,\n        \"max\": 80,\n        \"num_unique_values\": 4,\n        \"samples\": [\n          60\n        ],\n        \"semantic_type\": \"\",\n        \"description\": \"\"\n      }\n    },\n    {\n      \"column\": \"Legendary\",\n      \"properties\": {\n        \"dtype\": \"boolean\",\n        \"num_unique_values\": 1,\n        \"samples\": [\n          false\n        ],\n        \"semantic_type\": \"\",\n        \"description\": \"\"\n      }\n    }\n  ]\n}"
            }
          },
          "metadata": {},
          "execution_count": 27
        }
      ]
    },
    {
      "cell_type": "code",
      "source": [
        "pokemon.info()"
      ],
      "metadata": {
        "colab": {
          "base_uri": "https://localhost:8080/"
        },
        "id": "rvw8CdcFL-fv",
        "outputId": "5c168971-025b-4755-8cf5-66dc98957422"
      },
      "execution_count": 2,
      "outputs": [
        {
          "output_type": "stream",
          "name": "stdout",
          "text": [
            "<class 'pandas.core.frame.DataFrame'>\n",
            "RangeIndex: 800 entries, 0 to 799\n",
            "Data columns (total 11 columns):\n",
            " #   Column     Non-Null Count  Dtype \n",
            "---  ------     --------------  ----- \n",
            " 0   pid        800 non-null    int64 \n",
            " 1   Name       799 non-null    object\n",
            " 2   Class 1    800 non-null    object\n",
            " 3   Class 2    414 non-null    object\n",
            " 4   HP         800 non-null    int64 \n",
            " 5   Attack     800 non-null    int64 \n",
            " 6   Defense    800 non-null    int64 \n",
            " 7   Sp. Atk    800 non-null    int64 \n",
            " 8   Sp. Def    800 non-null    int64 \n",
            " 9   Speed      800 non-null    int64 \n",
            " 10  Legendary  800 non-null    bool  \n",
            "dtypes: bool(1), int64(7), object(3)\n",
            "memory usage: 63.4+ KB\n"
          ]
        }
      ]
    },
    {
      "cell_type": "code",
      "source": [
        "pokemon.isna().sum()"
      ],
      "metadata": {
        "colab": {
          "base_uri": "https://localhost:8080/",
          "height": 429
        },
        "id": "k5_1aHdGM5Jq",
        "outputId": "30f91bc4-990d-4e5c-8ef3-3e671dd1e7c3"
      },
      "execution_count": 3,
      "outputs": [
        {
          "output_type": "execute_result",
          "data": {
            "text/plain": [
              "pid            0\n",
              "Name           1\n",
              "Class 1        0\n",
              "Class 2      386\n",
              "HP             0\n",
              "Attack         0\n",
              "Defense        0\n",
              "Sp. Atk        0\n",
              "Sp. Def        0\n",
              "Speed          0\n",
              "Legendary      0\n",
              "dtype: int64"
            ],
            "text/html": [
              "<div>\n",
              "<style scoped>\n",
              "    .dataframe tbody tr th:only-of-type {\n",
              "        vertical-align: middle;\n",
              "    }\n",
              "\n",
              "    .dataframe tbody tr th {\n",
              "        vertical-align: top;\n",
              "    }\n",
              "\n",
              "    .dataframe thead th {\n",
              "        text-align: right;\n",
              "    }\n",
              "</style>\n",
              "<table border=\"1\" class=\"dataframe\">\n",
              "  <thead>\n",
              "    <tr style=\"text-align: right;\">\n",
              "      <th></th>\n",
              "      <th>0</th>\n",
              "    </tr>\n",
              "  </thead>\n",
              "  <tbody>\n",
              "    <tr>\n",
              "      <th>pid</th>\n",
              "      <td>0</td>\n",
              "    </tr>\n",
              "    <tr>\n",
              "      <th>Name</th>\n",
              "      <td>1</td>\n",
              "    </tr>\n",
              "    <tr>\n",
              "      <th>Class 1</th>\n",
              "      <td>0</td>\n",
              "    </tr>\n",
              "    <tr>\n",
              "      <th>Class 2</th>\n",
              "      <td>386</td>\n",
              "    </tr>\n",
              "    <tr>\n",
              "      <th>HP</th>\n",
              "      <td>0</td>\n",
              "    </tr>\n",
              "    <tr>\n",
              "      <th>Attack</th>\n",
              "      <td>0</td>\n",
              "    </tr>\n",
              "    <tr>\n",
              "      <th>Defense</th>\n",
              "      <td>0</td>\n",
              "    </tr>\n",
              "    <tr>\n",
              "      <th>Sp. Atk</th>\n",
              "      <td>0</td>\n",
              "    </tr>\n",
              "    <tr>\n",
              "      <th>Sp. Def</th>\n",
              "      <td>0</td>\n",
              "    </tr>\n",
              "    <tr>\n",
              "      <th>Speed</th>\n",
              "      <td>0</td>\n",
              "    </tr>\n",
              "    <tr>\n",
              "      <th>Legendary</th>\n",
              "      <td>0</td>\n",
              "    </tr>\n",
              "  </tbody>\n",
              "</table>\n",
              "</div><br><label><b>dtype:</b> int64</label>"
            ]
          },
          "metadata": {},
          "execution_count": 3
        }
      ]
    },
    {
      "cell_type": "markdown",
      "source": [
        "**Задание № 1:**\n",
        "Профессор Оук подозревает, что покемоны в классе Grass имеют более сильную обычную атаку, чем покемоны в классе Rock. Проверьте, прав ли он, и убедите его в своём выводе статистически.\n",
        "\n",
        "Примечание: если есть покемоны, которые относятся к обоим классам, просто выбросьте их;\n",
        "\n",
        "Вы можете предположить, что распределение обычных атак является нормальным для всех классов покемонов."
      ],
      "metadata": {
        "id": "z8sSRNOSoNns"
      }
    },
    {
      "cell_type": "code",
      "source": [
        "grass_pokemon = pokemon[(pokemon['Class 1'] == 'Grass') & (pokemon['Class 2'] != 'Rock')]\n",
        "rock_pokemon = pokemon[(pokemon['Class 1'] == 'Rock') & (pokemon['Class 2'] != 'Grass')]"
      ],
      "metadata": {
        "id": "Ch25DrzwqCnr"
      },
      "execution_count": 4,
      "outputs": []
    },
    {
      "cell_type": "code",
      "source": [
        "grass_attack = grass_pokemon['Attack']\n",
        "rock_attack = rock_pokemon['Attack']"
      ],
      "metadata": {
        "id": "WVAql67mqW6I"
      },
      "execution_count": 5,
      "outputs": []
    },
    {
      "cell_type": "code",
      "source": [
        "t_stat, p_value = ttest_ind(grass_attack, rock_attack, alternative='greater', equal_var=True)\n",
        "print(\"t-статистика:\", t_stat)\n",
        "print(\"p-value:\", p_value)\n",
        "if p_value < 0.05:\n",
        "    print(\"Отклоняем нулевую гипотезу: средняя атака Grass статистически значимо выше, чем у Rock.\")\n",
        "else:\n",
        "    print(\"Не отклоняем нулевую гипотезу: недостаточно доказательств, что атака Grass выше, чем у Rock.\")\n"
      ],
      "metadata": {
        "colab": {
          "base_uri": "https://localhost:8080/"
        },
        "id": "GdRLPrkAqzvC",
        "outputId": "2e99ef9e-2e82-4736-a3e7-9b6ca6836f47"
      },
      "execution_count": 24,
      "outputs": [
        {
          "output_type": "stream",
          "name": "stdout",
          "text": [
            "t-статистика: -3.6867299152069792\n",
            "p-value: 0.9998227575495493\n",
            "Не отклоняем нулевую гипотезу: недостаточно доказательств, что атака Grass выше, чем у Rock.\n"
          ]
        }
      ]
    },
    {
      "cell_type": "code",
      "source": [
        "# t-статистика: указывает на то, что Grass-покемоны значительно уступают Rock-покемонам по средней атаке."
      ],
      "metadata": {
        "id": "J8etuQ1gPb2_"
      },
      "execution_count": null,
      "outputs": []
    },
    {
      "cell_type": "markdown",
      "source": [
        "**Задание № 2:**\n",
        "Профессор Оук уже долго не может спать по ночам, ведь его волнует вопрос, а правда ли, что покемоны в классе Water в среднем быстрее, чем покемоны в классе Normal.\n",
        "\n",
        "Проверьте, прав ли он, и убедите его в своём выводе статистически.\n",
        "\n",
        "Примечание: если есть покемоны, которые относятся к обоим классам, выбросьте их;\n",
        "\n",
        "Вы можете предположить, что распределение скорости движения является нормальным для всех классов покемонов."
      ],
      "metadata": {
        "id": "cmvB_WZcrkMi"
      }
    },
    {
      "cell_type": "code",
      "source": [
        "water_pokemon = pokemon[(pokemon['Class 1'] == 'Water') & (pokemon['Class 2'] != 'Normal')]\n",
        "normal_pokemon = pokemon[(pokemon['Class 1'] == 'Normal') & (pokemon['Class 2'] != 'Water')]\n",
        "\n",
        "water_speed = water_pokemon['Speed']\n",
        "normal_speed = normal_pokemon['Speed']\n",
        "\n",
        "t_stat, p_value = ttest_ind(water_speed, normal_speed, equal_var=False, alternative='greater')\n",
        "print(\"t-статистика:\", t_stat)\n",
        "print(\"p-value:\", p_value)\n",
        "if p_value < 0.05:\n",
        "    print(\"Отклоняем нулевую гипотезу: покемоны Water статистически значимо быстрее, чем Normal.\")\n",
        "else:\n",
        "    print(\"Не отклоняем нулевую гипотезу: недостаточно доказательств, что Water быстрее Normal.\")"
      ],
      "metadata": {
        "colab": {
          "base_uri": "https://localhost:8080/"
        },
        "id": "9djj9Fp8rpBb",
        "outputId": "df024b0c-6ef9-4f6b-9c11-73e6f35af04c"
      },
      "execution_count": 23,
      "outputs": [
        {
          "output_type": "stream",
          "name": "stdout",
          "text": [
            "t-статистика: -1.542980807203786\n",
            "p-value: 0.9377234939112589\n",
            "Не отклоняем нулевую гипотезу: недостаточно доказательств, что Water быстрее Normal.\n"
          ]
        }
      ]
    },
    {
      "cell_type": "code",
      "source": [
        "#Принимая во внимание отрицательную величину t_stat очень вероятно, что напротив средняя скорость Normal превосходит Water."
      ],
      "metadata": {
        "id": "XGvMO9chVmQV"
      },
      "execution_count": null,
      "outputs": []
    },
    {
      "cell_type": "markdown",
      "source": [
        "**Задание № 3:**\n",
        "Профессор Оук тот еще безумец. Он изобрёл сыворотку, способную ускорить покемона. Однако мы усомнились в эффективности его вакцины. Професоор дал эту сыворотку следующим покемонам: смотри массив treathed_pokemon. Проверьте, работает ли вообще его сыворотка, убедите всех в своём выводе статистически.\n",
        "\n",
        "Вы можете предположить, что распределение скорости движения является нормальным для всех классов покемонов."
      ],
      "metadata": {
        "id": "cCeNGKm-yKBm"
      }
    },
    {
      "cell_type": "code",
      "source": [
        "# Покемоны, которые принимали сыворотку увеличения скорости\n",
        "treathed_pokemon = ['Mega Beedrill', 'Mega Alakazam',\n",
        "                    'Deoxys Normal Forme', 'Mega Lopunny']"
      ],
      "metadata": {
        "id": "4sabrPqiyRFu"
      },
      "execution_count": 28,
      "outputs": []
    },
    {
      "cell_type": "code",
      "source": [
        "filtered_pokemon = pokemon[pokemon['Name'].str.contains('Beedrill|Alakazam|Deoxy|Lopunny', case=False, na=False)]\n",
        "\n",
        "print(filtered_pokemon[['Name', 'Speed']])"
      ],
      "metadata": {
        "colab": {
          "base_uri": "https://localhost:8080/"
        },
        "id": "UJcCpugYBNDD",
        "outputId": "5eb1f6b8-aec6-4473-9106-1a5ad43562a8"
      },
      "execution_count": 29,
      "outputs": [
        {
          "output_type": "stream",
          "name": "stdout",
          "text": [
            "                     Name  Speed\n",
            "18               Beedrill     75\n",
            "19          Mega Beedrill    145\n",
            "70               Alakazam    120\n",
            "71          Mega Alakazam    150\n",
            "428   Deoxys Normal Forme    150\n",
            "429    DeoxysAttack Forme    150\n",
            "430  Deoxys Defense Forme     90\n",
            "431    Deoxys Speed Forme    180\n",
            "475               Lopunny    105\n",
            "476          Mega Lopunny    135\n"
          ]
        }
      ]
    },
    {
      "cell_type": "code",
      "source": [
        "standart_pokemon = ['Beedrill', 'Alakazam', 'DeoxysAttack Forme', 'Deoxys Speed Forme', 'Deoxys Defense Forme', 'Lopunny']"
      ],
      "metadata": {
        "id": "xf7lKSLnB8BF"
      },
      "execution_count": 30,
      "outputs": []
    },
    {
      "cell_type": "code",
      "source": [
        "standart_speed = pokemon[pokemon['Name'].isin(standart_pokemon)]['Speed']\n",
        "treathed_speed = pokemon[pokemon['Name'].isin(treathed_pokemon)]['Speed']"
      ],
      "metadata": {
        "id": "pOPqVL0fCfyC"
      },
      "execution_count": 31,
      "outputs": []
    },
    {
      "cell_type": "code",
      "source": [
        "t_stat, p_value = ttest_ind(standart_speed, treathed_speed, equal_var=True)\n",
        "print(\"p-value:\", p_value)\n",
        "\n",
        "if p_value < 0.05:\n",
        "    print(\"Средние значения статистически различаются — есть эффект! Покемоны стали быстрее.\")\n",
        "else:\n",
        "    print(\" Статистически значимой разницы не выявлено — сыворотка, возможно, неэффективна.\")"
      ],
      "metadata": {
        "colab": {
          "base_uri": "https://localhost:8080/"
        },
        "id": "JW7hXJi0E7QE",
        "outputId": "d09085ad-9417-4173-be8e-9b9cf3cf45f6"
      },
      "execution_count": 34,
      "outputs": [
        {
          "output_type": "stream",
          "name": "stdout",
          "text": [
            "p-value: 0.24998980625876047\n",
            " Статистически значимой разницы не выявлено — сыворотка, возможно, неэффективна.\n"
          ]
        }
      ]
    },
    {
      "cell_type": "markdown",
      "source": [
        "**Задание № 4:**\n",
        "Профессор Оук всегда любил истории про легендарных покемонов. Однако профессор не очень уверен, что они лучше остальных покемонов. Оук предложил разобраться в этом нам. Проверьте, действительно ли сумма характеристик HP,Attack,Defense у легендарных покемонов выше, чем у других покемонов?\n",
        "\n",
        "А произведение этих же параметров?\n",
        "\n",
        "Найдите ответы на эти вопросы и убедите всех в своём выводе статистически.\n",
        "\n",
        "Вы можете предположить, что распределение сум и произведений этих параметров является нормальным для всех классов покемонов."
      ],
      "metadata": {
        "id": "6DswVeqVGg9b"
      }
    },
    {
      "cell_type": "code",
      "source": [
        "legendary_pokemon = pokemon[pokemon['Legendary'] == True]\n",
        "other_pokemon = pokemon[pokemon['Legendary'] == False]"
      ],
      "metadata": {
        "id": "CTZ63-jjKElr"
      },
      "execution_count": 36,
      "outputs": []
    },
    {
      "cell_type": "code",
      "source": [
        "legendary_sums = legendary_pokemon[['HP', 'Attack', 'Defense']].sum(axis=1)\n",
        "other_sums = other_pokemon[['HP', 'Attack', 'Defense']].sum(axis=1)\n"
      ],
      "metadata": {
        "id": "N-LteTT7La2Z"
      },
      "execution_count": 37,
      "outputs": []
    },
    {
      "cell_type": "code",
      "source": [
        "sum_t_stat, sum_p_value = ttest_ind(legendary_sums, other_sums, equal_var=False)\n",
        "print(f\"Sum P-value: {sum_p_value:.10f}\")\n",
        "if sum_p_value < 0.05:\n",
        "    print(\"Легендарные покемоны действительно имеют более высокую сумму характеристик.\")\n",
        "else:\n",
        "    print(\"Разница в сумме характеристик статистически незначима.\")"
      ],
      "metadata": {
        "colab": {
          "base_uri": "https://localhost:8080/"
        },
        "id": "9Ulpyha0Vjpa",
        "outputId": "016d7101-a52b-4021-a0c4-9686da60983c"
      },
      "execution_count": 38,
      "outputs": [
        {
          "output_type": "stream",
          "name": "stdout",
          "text": [
            "Sum P-value: 0.0000000000\n",
            "Легендарные покемоны действительно имеют более высокую сумму характеристик.\n"
          ]
        }
      ]
    },
    {
      "cell_type": "code",
      "source": [
        "legendary_products = legendary_pokemon[['HP', 'Attack', 'Defense']].prod(axis=1)\n",
        "other_products = other_pokemon[['HP', 'Attack', 'Defense']].prod(axis=1)"
      ],
      "metadata": {
        "id": "Tmx6Pz3jNzAL"
      },
      "execution_count": 39,
      "outputs": []
    },
    {
      "cell_type": "code",
      "source": [
        "prod_t_stat, prod_p_value = ttest_ind(legendary_products, other_products, equal_var=False)\n",
        "print(f\"Product P-value: {prod_p_value:.10f}\")\n",
        "if prod_p_value < 0.05:\n",
        "    print(\"Легендарные покемоны действительно имеют более высокое произведение характеристик.\")\n",
        "else:\n",
        "    print(\"Разница в произведении характеристик статистически незначима.\")"
      ],
      "metadata": {
        "colab": {
          "base_uri": "https://localhost:8080/"
        },
        "id": "Fn_Hm0joN6bI",
        "outputId": "25e8f8ae-b80c-4576-f4a3-8114e5c0337d"
      },
      "execution_count": 40,
      "outputs": [
        {
          "output_type": "stream",
          "name": "stdout",
          "text": [
            "Product P-value: 0.0000000000\n",
            "Легендарные покемоны действительно имеют более высокое произведение характеристик.\n"
          ]
        }
      ]
    },
    {
      "cell_type": "markdown",
      "source": [
        "**Задание № 5:**\n",
        "Профессор Оук частенько наблюдает за боями покемонов. После очередных таких боёв Оук выделил четыре класса best_defence_class, которые на его взгляд одинаковы по \"силе обычной защиты\" Defense.\n",
        "\n",
        "Проверьте, действительно ли эти классы покемонов не отличаются по уровню защиты статистически значимо? Всё та же статистика вам в помощь!\n",
        "\n",
        "Вы можете предположить, что распределение параметров защитных характеристик является нормальным для всех классов покемонов."
      ],
      "metadata": {
        "id": "L6jWWgGrWrhf"
      }
    },
    {
      "cell_type": "code",
      "source": [
        "best_defence_class = ['Rock', 'Ground', 'Steel', 'Ice']"
      ],
      "metadata": {
        "id": "RpZvBiF9Wwho"
      },
      "execution_count": null,
      "outputs": []
    },
    {
      "cell_type": "code",
      "source": [
        "rock_defense = pokemon[pokemon['Class 1'] == 'Rock']['Defense']\n",
        "ground_defense = pokemon[pokemon['Class 1'] == 'Ground']['Defense']\n",
        "steel_defense = pokemon[pokemon['Class 1'] == 'Steel']['Defense']\n",
        "ice_defense = pokemon[pokemon['Class 1'] == 'Ice']['Defense']\n",
        "\n",
        "# ANOVA-тест\n",
        "f_stat, p_value = f_oneway(rock_defense, ground_defense, steel_defense, ice_defense)\n",
        "\n",
        "print(\"p-value:\", p_value)\n",
        "if p_value < 0.05:\n",
        "    print(\"Гипотеза отклоняется: классы покемонов статистически отличаются по уровню защиты.\")\n",
        "else:\n",
        "    print(\"Гипотеза подтверждается: различия в уровне защиты между классами не являются статистически значимыми.\")"
      ],
      "metadata": {
        "colab": {
          "base_uri": "https://localhost:8080/"
        },
        "id": "V-Z_6vPfXqMp",
        "outputId": "854d75cd-f3ea-4a5a-af50-8bdb40caaf20"
      },
      "execution_count": 42,
      "outputs": [
        {
          "output_type": "stream",
          "name": "stdout",
          "text": [
            "p-value: 3.0803014649204294e-06\n",
            "Гипотеза отклоняется: классы покемонов статистически отличаются по уровню защиты.\n"
          ]
        }
      ]
    }
  ]
}