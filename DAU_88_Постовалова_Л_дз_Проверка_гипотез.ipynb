{
  "nbformat": 4,
  "nbformat_minor": 0,
  "metadata": {
    "colab": {
      "provenance": []
    },
    "kernelspec": {
      "name": "python3",
      "display_name": "Python 3"
    },
    "language_info": {
      "name": "python"
    }
  },
  "cells": [
    {
      "cell_type": "code",
      "source": [],
      "metadata": {
        "colab": {
          "base_uri": "https://localhost:8080/"
        },
        "id": "AQHk5IIIsgs2",
        "outputId": "bdbf8547-995b-4108-adce-1b8d4a198fd1"
      },
      "execution_count": 5,
      "outputs": [
        {
          "output_type": "stream",
          "name": "stdout",
          "text": [
            "On branch main\n",
            "\n",
            "No commits yet\n",
            "\n",
            "nothing to commit (create/copy files and use \"git add\" to track)\n",
            "fatal: your current branch 'main' does not have any commits yet\n",
            "error: src refspec main does not match any\n",
            "\u001b[31merror: failed to push some refs to 'https://github.com/MilaPost/Statistic_python.git'\n",
            "\u001b[m"
          ]
        }
      ]
    },
    {
      "cell_type": "code",
      "source": [
        "import numpy as np\n",
        "import scipy.stats as st\n",
        "import pandas as pd\n",
        "import math\n",
        "import matplotlib.pyplot as plt\n",
        "import seaborn as sns\n",
        "from scipy.stats import shapiro\n",
        "from statsmodels.stats.multicomp import pairwise_tukeyhsd"
      ],
      "metadata": {
        "id": "bpd_RBVMrTA8"
      },
      "execution_count": null,
      "outputs": []
    },
    {
      "cell_type": "markdown",
      "source": [
        "**Задание № 1**\n",
        "Разработайте функцию для проверки нормальности распределения выборки данных, используя шаблон ниже. Вы можете использовать один из известных Вам статистических тестов."
      ],
      "metadata": {
        "id": "Oa-iryDVlk6y"
      }
    },
    {
      "cell_type": "code",
      "source": [
        "def check_normality(data):\n",
        "    # Проведение теста Шапиро-Уилка\n",
        "    stat, p = shapiro(data)\n",
        "    print(f\"Статистика теста: {stat:.3f}, p-значение: {p:.3f}\")\n",
        "    if p < 0.05: # условие статистической значимости\n",
        "        print(\"Отклоняем нулевую гипотезу >> Данные распределены не нормально\")\n",
        "    else:\n",
        "        print(\"Не отклоняем нулевую гипотезу >> Данные распределены нормально\")"
      ],
      "metadata": {
        "id": "vpR84jZ0lq6U"
      },
      "execution_count": null,
      "outputs": []
    },
    {
      "cell_type": "code",
      "source": [
        "data = np.random.normal(loc=0, scale=1, size=100)\n",
        "check_normality(data)"
      ],
      "metadata": {
        "colab": {
          "base_uri": "https://localhost:8080/"
        },
        "id": "SpY3YsCCrufq",
        "outputId": "40f9b6f1-5f2d-4765-d8df-61b46f016c10"
      },
      "execution_count": null,
      "outputs": [
        {
          "output_type": "stream",
          "name": "stdout",
          "text": [
            "Статистика теста: 0.988, p-значение: 0.510\n",
            "Не отклоняем нулевую гипотезу >> Данные распределены нормально\n"
          ]
        }
      ]
    },
    {
      "cell_type": "markdown",
      "source": [
        "**Задание № 2**\n",
        "Даны две выборки роста мужчин и женщин.\n",
        "\n",
        "Докажите, используя t-Тест Стьдента, что различие между выборками незначительно, если уровень значимости равен  α  = 0.001.\n",
        "Покажите различия визуально\n",
        "Является ли результат полезным с практической точки зрения? Почему да или нет?"
      ],
      "metadata": {
        "id": "nCcUdrEHlwvK"
      }
    },
    {
      "cell_type": "code",
      "source": [
        "np.random.seed(42) #фиксация случайности\n",
        "\n",
        "mens  = st.norm.rvs(loc=171, scale=10, size=150000)  # Выборка мужчин со средним ростом 171\n",
        "womens = st.norm.rvs(loc=170, scale=10, size=150000)  # Выборка женщин со средним ростом 170\n",
        "stat, p = st.ttest_ind(mens, womens)\n",
        "print(f\"Статистика = {stat:.3f}, p = {p:.5f}\")\n",
        "# Проверка уровня значимости (α = 0.001)\n",
        "if p < 0.001:\n",
        "    print(\"Отклоняем нулевую гипотезу, рост мужчин статистически отличается от роста женщин.\")\n",
        "else:\n",
        "    print(\"Не отклоняем нулевую гипотезу, различие роста мужчин и женщин статистически незначительно.\")"
      ],
      "metadata": {
        "colab": {
          "base_uri": "https://localhost:8080/"
        },
        "id": "A5Stvcbql3Pa",
        "outputId": "35d04f1e-6fb4-4984-ab1b-c7ff5b66b09b"
      },
      "execution_count": null,
      "outputs": [
        {
          "output_type": "stream",
          "name": "stdout",
          "text": [
            "Статистика = 28.314, p = 0.00000\n",
            "Отклоняем нулевую гипотезу, рост мужчин статистически отличается от роста женщин.\n"
          ]
        }
      ]
    },
    {
      "cell_type": "code",
      "source": [
        "plt.figure(figsize=(10, 6))\n",
        "plt.hist(mens, bins=50, alpha=0.7, label='Мужчины', color='blue', density=True)\n",
        "plt.hist(womens, bins=50, alpha=0.7, label='Женщины', color='red', density=True)\n",
        "plt.axvline(mens.mean(), color='blue', linestyle='dashed', linewidth=2, label=f\"Средний рост мужчин: {mens.mean():.2f}\")\n",
        "plt.axvline(womens.mean(), color='pink', linestyle='dashed', linewidth=2, label=f\"Средний рост женщин: {womens.mean():.2f}\")\n",
        "plt.title(\"Распределение роста мужчин и женщин\")\n",
        "plt.xlabel(\"Рост (см)\")\n",
        "plt.ylabel(\"Плотность\")\n",
        "plt.legend()\n",
        "plt.show()"
      ],
      "metadata": {
        "colab": {
          "base_uri": "https://localhost:8080/",
          "height": 564
        },
        "id": "kCzE9vZFs7qS",
        "outputId": "f9ad44a3-8378-447a-ce8b-12d1a9dd14a6"
      },
      "execution_count": null,
      "outputs": [
        {
          "output_type": "display_data",
          "data": {
            "text/plain": [
              "<Figure size 1000x600 with 1 Axes>"
            ],
            "image/png": "[encoded data removed]"
          },
          "metadata": {}
        }
      ]
    },
    {
      "cell_type": "markdown",
      "source": [
        "Вывод: При заданном уровне значимости рост мужчин статистически отличается от роста женщин, но такой уровень значимости минимален и для роста, обычно, не применим. Он больше подходит для финансовой сферы или для медицинских исследований."
      ],
      "metadata": {
        "id": "kxPMaZ8PyGdX"
      }
    },
    {
      "cell_type": "markdown",
      "source": [
        "**Задание № 3**\n",
        "Специалист по кадрам, работающий в технологической компании, интересуется сверхурочным временем разных команд. Чтобы выяснить, есть ли разница между сверхурочной работой команды разработчиков программного обеспечения и группы тестирования, она случайным образом выбрала 17 сотрудников в каждой из двух команд и записала их среднее сверхурочное время за неделю в пересчете на час. Данные ниже.\n",
        "\n",
        "В соответствии с этой информацией проведите проверку гипотезы, чтобы проверить, есть ли разница между переутомлением двух команд, используя уровень значимости 0,05. Прежде чем приступать к проверке гипотез, проверьте предположение нормальности."
      ],
      "metadata": {
        "id": "SmEkZQgQml8w"
      }
    },
    {
      "cell_type": "code",
      "source": [
        "test_team = [6.2, 7.1, 1.5, 2,3 , 2, 1.5, 6.1, 2.4, 2.3, 12.4, 1.8, 5.3, 3.1, 9.4, 2.3, 4.1]\n",
        "developer_team = [2.3, 2.1, 1.4, 2.0, 8.7, 2.2, 3.1, 4.2, 3.6, 2.5, 3.1, 6.2, 12.1, 3.9, 2.2, 1.2 ,3.4]\n",
        "#для начала проверим нормальность обоих распределений\n",
        "stat_test, p_test = st.shapiro(test_team)\n",
        "stat_dev, p_dev = st.shapiro(developer_team)\n",
        "if p_test < 0.05:\n",
        "    print(\"Test Team: распределение не является нормальным.\")\n",
        "else:\n",
        "    print(\"Test Team: распределение нормально.\")\n",
        "\n",
        "if p_dev < 0.05:\n",
        "    print(\"Developer Team: распределение не является нормальным.\")\n",
        "else:\n",
        "    print(\"Developer Team: распределение нормально.\")\n"
      ],
      "metadata": {
        "colab": {
          "base_uri": "https://localhost:8080/"
        },
        "id": "E6_KhbstmpWX",
        "outputId": "92ade317-10b7-44fd-b410-2058b20bb3ee"
      },
      "execution_count": null,
      "outputs": [
        {
          "output_type": "stream",
          "name": "stdout",
          "text": [
            "Test Team: распределение не является нормальным.\n",
            "Developer Team: распределение не является нормальным.\n"
          ]
        }
      ]
    },
    {
      "cell_type": "code",
      "source": [
        "#Т.к. распределение обеих выборок не является нормальным, используем тест Манна-Уитни\n",
        "stat, p = st.mannwhitneyu(test_team, developer_team)\n",
        "\n",
        "print(f\"Статистика = {stat:.3f}, p = {p:.3f}\")\n",
        "# Вывод результата\n",
        "if p < 0.05:\n",
        "    print(\"Отклоняем нулевую гипотезу: есть статистически значимая разница в сверхурочных часах между командами.\")\n",
        "else:\n",
        "    print(\"Не отклоняем нулевую гипотезу: статистически значимой разницы в сверхурочных часах нет.\")"
      ],
      "metadata": {
        "colab": {
          "base_uri": "https://localhost:8080/"
        },
        "id": "lOXjHRaW4vvu",
        "outputId": "c03be88b-32f4-49f0-b03f-6c0ee6003cea"
      },
      "execution_count": null,
      "outputs": [
        {
          "output_type": "stream",
          "name": "stdout",
          "text": [
            "Статистика = 151.500, p = 0.823\n",
            "Не отклоняем нулевую гипотезу: статистически значимой разницы в сверхурочных часах нет.\n"
          ]
        }
      ]
    },
    {
      "cell_type": "markdown",
      "source": [
        "**Задание № 4**\n",
        "Педиатр хочет увидеть влияние потребления смеси на среднемесячную прибавку в весе у новорожденных. По этой причине она собрала данные из трех разных групп. Первая группа – дети исключительно грудного вскармливания, вторая группа – дети, которых кормят только смесью, и последняя группа – это дети, находящиеся на искусственном вскармливании и на грудном вскармливании. Эти данные приведены ниже.\n",
        "\n",
        "В соответствии с этой информацией проведите проверку гипотезы, чтобы проверить, есть ли разница между среднемесячным приростом этих трех групп, используя уровень значимости 0,05. Если есть значительная разница, выполните дальнейший анализ, чтобы найти причину разницы."
      ],
      "metadata": {
        "id": "wnPrdlW0mqBx"
      }
    },
    {
      "cell_type": "code",
      "source": [
        "only_breast = [794.1, 716.9, 993. , 724.7, 760.9, 908.2, 659.3 , 690.8, 768.7, 717.3 , 630.7, 729.5, 714.1, 810.3, 583.5, 679.9, 865.1];\n",
        "only_formula = [898.8, 881.2, 940.2, 966.2, 957.5, 1061.7, 1046.2, 980.4, 895.6, 919.7, 1074.1, 952.5, 796.3, 859.6, 871.1 , 1047.5, 919.1 , 1160.5, 996.9];\n",
        "both = [976.4, 656.4, 861.2, 706.8, 718.5, 717.1, 759.8, 894.6, 867.6, 805.6, 765.4, 800.3, 789.9, 875.3, 740. , 799.4, 790.3, 795.2 , 823.6, 818.7, 926.8, 791.7, 948.3];\n",
        "alpha = 0.05\n",
        "#для каждого массива данных проверяем нормальность распределения\n",
        "for group, name in zip([only_breast, only_formula, both], ['Only Breast', 'Only Formula', 'Both']):\n",
        "    stat, p = st.shapiro(group)\n",
        "    print(f\"{name}: W = {stat:.3f}, p = {p:.3f}\")\n",
        "    if p < alpha:\n",
        "        print(f\"{name}: распределение не является нормальным.\")\n",
        "    else:\n",
        "        print(f\"{name}: распределение нормально.\")\n",
        "    print()"
      ],
      "metadata": {
        "colab": {
          "base_uri": "https://localhost:8080/"
        },
        "id": "01uwjjC9mvI7",
        "outputId": "b6f9aa10-316d-435a-d02d-1e18f10018f6"
      },
      "execution_count": null,
      "outputs": [
        {
          "output_type": "stream",
          "name": "stdout",
          "text": [
            "Only Breast: W = 0.951, p = 0.469\n",
            "Only Breast: распределение нормально.\n",
            "\n",
            "Only Formula: W = 0.976, p = 0.888\n",
            "Only Formula: распределение нормально.\n",
            "\n",
            "Both: W = 0.975, p = 0.797\n",
            "Both: распределение нормально.\n",
            "\n"
          ]
        }
      ]
    },
    {
      "cell_type": "code",
      "source": [
        "levene_stat, levene_p = st.levene(only_breast, only_formula, both)\n",
        "print(f\"Levene Test: Statistic = {levene_stat:.3f}, p = {levene_p:.3f}\")"
      ],
      "metadata": {
        "colab": {
          "base_uri": "https://localhost:8080/"
        },
        "id": "ZuyyRiwo85Og",
        "outputId": "f71484a6-44d5-4c41-e9cb-3eef17d7833e"
      },
      "execution_count": null,
      "outputs": [
        {
          "output_type": "stream",
          "name": "stdout",
          "text": [
            "Levene Test: Statistic = 0.266, p = 0.767\n"
          ]
        }
      ]
    },
    {
      "cell_type": "code",
      "source": [
        "#данные нормальны и дисперсии равны → используем однофакторный ANOVA.\n",
        "stat, p = st.f_oneway(only_breast, only_formula, both)\n",
        "print(f\"F-статистика = {stat:.3f}, p-значение = {p:.3f}\")\n",
        "\n",
        "if p < 0.05:\n",
        "    print(\"Отклоняем нулевую гипотезу: есть значимые различия между группами.\")\n",
        "else:\n",
        "    print(\"Не отклоняем нулевую гипотезу: различий между группами нет.\")\n"
      ],
      "metadata": {
        "colab": {
          "base_uri": "https://localhost:8080/"
        },
        "id": "tB6Xwu_I9S-L",
        "outputId": "7bb4182b-5e37-4647-f9cd-f85cd3d7ff17"
      },
      "execution_count": null,
      "outputs": [
        {
          "output_type": "stream",
          "name": "stdout",
          "text": [
            "F-статистика = 26.701, p-значение = 0.000\n",
            "Отклоняем нулевую гипотезу: есть значимые различия между группами.\n"
          ]
        }
      ]
    },
    {
      "cell_type": "code",
      "source": [
        "# Значения различимы, проводим тест Тьюки\n",
        "if p < alpha:\n",
        "    print(\"\\nВыполняем тест Тьюки для выявления различий:\")\n",
        "    data = only_breast + only_formula + both\n",
        "    groups = (['Only Breast'] * len(only_breast) +\n",
        "                  ['Only Formula'] * len(only_formula) +\n",
        "                  ['Both'] * len(both))\n",
        "    tukey = pairwise_tukeyhsd(endog=data, groups=groups, alpha=alpha)\n",
        "    print(tukey)"
      ],
      "metadata": {
        "colab": {
          "base_uri": "https://localhost:8080/"
        },
        "id": "lX8fJcO5-nmD",
        "outputId": "d742f5bf-f8af-4e3c-e324-fea27e52fb11"
      },
      "execution_count": null,
      "outputs": [
        {
          "output_type": "stream",
          "name": "stdout",
          "text": [
            "\n",
            "Выполняем тест Тьюки для выявления различий:\n",
            "       Multiple Comparison of Means - Tukey HSD, FWER=0.05        \n",
            "==================================================================\n",
            "   group1      group2    meandiff p-adj    lower    upper   reject\n",
            "------------------------------------------------------------------\n",
            "       Both  Only Breast -60.1286 0.0995 -129.1485   8.8912  False\n",
            "       Both Only Formula 149.2636    0.0   82.3651 216.1621   True\n",
            "Only Breast Only Formula 209.3923    0.0  137.3508 281.4337   True\n",
            "------------------------------------------------------------------\n"
          ]
        }
      ]
    },
    {
      "cell_type": "code",
      "source": [
        "#Визуализируем данные\n",
        "sns.boxplot(data=[only_breast, only_formula, both], palette=\"Set2\")\n",
        "plt.xticks([0, 1, 2], ['Only Breast', 'Only Formula', 'Both'])\n",
        "plt.title('Сравнение прироста веса в разных группах')\n",
        "plt.ylabel('Средний прирост веса')\n",
        "plt.show()"
      ],
      "metadata": {
        "colab": {
          "base_uri": "https://localhost:8080/",
          "height": 452
        },
        "id": "Vl-nxqmI_Sy-",
        "outputId": "0efc0af7-47be-4d69-df69-a1fbe86f50f5"
      },
      "execution_count": null,
      "outputs": [
        {
          "output_type": "display_data",
          "data": {
            "text/plain": [
              "<Figure size 640x480 with 1 Axes>"
            ],
            "image/png": "[encoded data removed]"
          },
          "metadata": {}
        }
      ]
    },
    {
      "cell_type": "markdown",
      "source": [
        "Вывод: установлена значительная разница в среднемесячной прибавке веса у групп (Only_breast и Only_formula) и групп (Both и Only_formula). Соответственно наибольшая прибавка веса идет у групп Only_formula и Both."
      ],
      "metadata": {
        "id": "0XspHm2HAd7X"
      }
    }
  ]
}